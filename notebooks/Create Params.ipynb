{
 "cells": [
  {
   "cell_type": "code",
   "execution_count": 1,
   "id": "6c5b90fa-e64f-475d-802f-063302e838ad",
   "metadata": {},
   "outputs": [
    {
     "name": "stdout",
     "output_type": "stream",
     "text": [
      "/nfs/scistore16/edelgrp/fzimin/depth-poset\n"
     ]
    },
    {
     "name": "stderr",
     "output_type": "stream",
     "text": [
      "/mnt/nfs/clustersw/Debian/bookworm/jupyterhub/1.0/lib/python3.11/site-packages/IPython/core/magics/osm.py:417: UserWarning: This is now an optional IPython functionality, setting dhist requires you to install the `pickleshare` library.\n",
      "  self.shell.db['dhist'] = compress_dhist(dhist)[-100:]\n"
     ]
    }
   ],
   "source": [
    "%cd .."
   ]
  },
  {
   "cell_type": "code",
   "execution_count": 2,
   "id": "2a035523-d6e0-4a55-b521-3d38b946fc2e",
   "metadata": {},
   "outputs": [],
   "source": [
    "import itertools\n",
    "import numpy as np\n",
    "import pandas as pd"
   ]
  },
  {
   "cell_type": "markdown",
   "id": "9dce7689-bfff-47c5-931d-722c79724052",
   "metadata": {},
   "source": [
    "# Generate Parameters"
   ]
  },
  {
   "cell_type": "code",
   "execution_count": 3,
   "id": "adb456ee-739c-4e52-89ef-c7d12c525601",
   "metadata": {},
   "outputs": [],
   "source": [
    "ns = np.concatenate([np.arange(4, 12, 1), np.arange(12, 165, 8)])\n",
    "ds = [1, 2, 3, 4]\n",
    "repeat = 10"
   ]
  },
  {
   "cell_type": "code",
   "execution_count": 4,
   "id": "cbe10b7c-8348-4a81-94fb-8c5d8bfff25b",
   "metadata": {},
   "outputs": [],
   "source": [
    "params = '\\n'.join(['\\n'.join([f'{d} {n}' for _ in range(repeat)]) for n, d in itertools.product(ns, ds)])"
   ]
  },
  {
   "cell_type": "code",
   "execution_count": 5,
   "id": "018f54cb-b811-4071-83d5-29e898d659c9",
   "metadata": {},
   "outputs": [],
   "source": [
    "with open('params.txt', 'w') as file:\n",
    "    file.write(params)"
   ]
  },
  {
   "cell_type": "code",
   "execution_count": 6,
   "id": "a742cd16-6b1c-46b5-8df1-2f26775c765b",
   "metadata": {},
   "outputs": [],
   "source": [
    "def get_param_table(s):\n",
    "    # \n",
    "    param_table = []\n",
    "    for i, s in enumerate(params.split('\\n')):\n",
    "        d, n = s.split()\n",
    "        param_table.append({'i': i, 'd': int(d), 'n': int(n)})\n",
    "    param_table = pd.DataFrame(param_table)\n",
    "    return param_table"
   ]
  },
  {
   "cell_type": "code",
   "execution_count": 7,
   "id": "fbed21f7-bf7e-49a5-b348-ee9514acc6ed",
   "metadata": {},
   "outputs": [],
   "source": [
    "def find_consecutive_ranges(arr):\n",
    "    arr = np.asarray(arr)\n",
    "    diffs = np.diff(arr)  # Compute differences between consecutive elements\n",
    "    breaks = np.where(diffs != 1)[0] + 1  # Find where the difference is not 1\n",
    "    indices = np.concatenate(([0], breaks, [len(arr)]))  # Include start and end of array\n",
    "    ranges = [(indices[i], indices[i + 1]) for i in range(len(indices) - 1) if indices[i + 1] - indices[i] > 1]\n",
    "    return ranges"
   ]
  },
  {
   "cell_type": "code",
   "execution_count": 8,
   "id": "e7978f52-2979-4b1a-a59b-ab8e6998b893",
   "metadata": {},
   "outputs": [],
   "source": [
    "def get_slurm_comand(s, condition=lambda row: True, script_path='slurm/calculate_scores_on_random_alpha_complexes.sh'):\n",
    "    # \n",
    "    param_table = get_param_table(s)\n",
    "    param_table = param_table[param_table.apply(condition, axis=1)]\n",
    "    ss = []\n",
    "    for i0, i1 in find_consecutive_ranges(param_table['i'].values):\n",
    "        j0, j1 = param_table['i'].values[[i0, i1 - 1]]\n",
    "        ss.append(f'sbatch --array={j0}-{j1} {script_path}')\n",
    "    return '\\n'.join(ss)"
   ]
  },
  {
   "cell_type": "code",
   "execution_count": 9,
   "id": "dc89d0f2-d801-40e0-bdf9-7e98282fb21d",
   "metadata": {},
   "outputs": [
    {
     "name": "stdout",
     "output_type": "stream",
     "text": [
      "sbatch --array=0-1119 slurm/calculate_scores_on_random_alpha_complexes.sh\n"
     ]
    }
   ],
   "source": [
    "print(get_slurm_comand(params))"
   ]
  },
  {
   "cell_type": "code",
   "execution_count": 10,
   "id": "fddbfabb-735f-46f9-8dc3-28ef5bc20962",
   "metadata": {},
   "outputs": [
    {
     "name": "stdout",
     "output_type": "stream",
     "text": [
      "sbatch --array=480-559 slurm/calculate_scores_on_random_alpha_complexes.sh\n"
     ]
    }
   ],
   "source": [
    "condition = lambda row: (row['n'] > 36) and  (row['n'] < 60)\n",
    "print(get_slurm_comand(params, condition)) # This should not start with 0"
   ]
  },
  {
   "cell_type": "markdown",
   "id": "aac8d3eb-d873-4af5-8423-9716b5ef15bf",
   "metadata": {},
   "source": [
    "# Clear Results"
   ]
  },
  {
   "cell_type": "code",
   "execution_count": null,
   "id": "058ff6e8-f6fa-45db-9f8b-8ff7ab76ed6b",
   "metadata": {},
   "outputs": [],
   "source": [
    "assert False"
   ]
  },
  {
   "cell_type": "code",
   "execution_count": null,
   "id": "9f610579-909a-4f51-a92b-52ae5316047b",
   "metadata": {},
   "outputs": [],
   "source": [
    "import os\n",
    "import pickle as pkl\n",
    "\n",
    "from tqdm import tqdm"
   ]
  },
  {
   "cell_type": "code",
   "execution_count": 11,
   "id": "a0980a9d-d96c-4f9f-b351-3b91b87d81b9",
   "metadata": {},
   "outputs": [
    {
     "name": "stdout",
     "output_type": "stream",
     "text": [
      "sbatch --array=0-359 slurm/calculate_scores_on_random_alpha_complexes.sh\n",
      "sbatch --array=480-559 slurm/calculate_scores_on_random_alpha_complexes.sh\n"
     ]
    }
   ],
   "source": [
    "condition = lambda result: (result['n'] <= 12) or (result['n'] == 44) or (result['n'] == 52)\n",
    "print(get_slurm_comand(params, condition))"
   ]
  },
  {
   "cell_type": "code",
   "execution_count": null,
   "id": "4de3052b-1740-402b-8d6f-752108122b2e",
   "metadata": {},
   "outputs": [],
   "source": [
    "path = 'results/scores-on-random-alpha-complexes/'\n",
    "\n",
    "filenames = np.char.add(path, os.listdir(path))\n",
    "corresponds_the_condition = np.zeros(len(filenames), dtype=bool)\n",
    "corrupted_files = np.zeros(len(filenames), dtype=bool)\n",
    "\n",
    "for i, filename in tqdm(enumerate(filenames), total=len(filenames)):\n",
    "    try:\n",
    "        with open(filename, 'rb') as file:\n",
    "            result = pkl.load(file)\n",
    "        corresponds_the_condition[i] = condition(result)\n",
    "    except EOFError:\n",
    "        corrupted_files[i] = True"
   ]
  },
  {
   "cell_type": "code",
   "execution_count": null,
   "id": "e503f73f-4a22-4338-ae4b-90d8511cabdc",
   "metadata": {},
   "outputs": [],
   "source": [
    "files_to_remove = filenames[corresponds_the_condition|corrupted_files]\n",
    "print(f'There should be {len(files_to_remove)} removed.')\n",
    "print(f'There are {corresponds_the_condition.sum()} files, corresponding the condition and {corrupted_files.sum()} files corrupted.')"
   ]
  },
  {
   "cell_type": "code",
   "execution_count": null,
   "id": "2c11e541-9a03-45db-ac72-8a5b4b08662f",
   "metadata": {},
   "outputs": [],
   "source": [
    "def remove_files(file_list):\n",
    "    for filename in tqdm(file_list, total=len(file_list)):\n",
    "        try:\n",
    "            os.remove(filename)\n",
    "        except FileNotFoundError:\n",
    "            print(f\"File not found: {filename}\")\n",
    "        except PermissionError:\n",
    "            print(f\"Permission denied: {filename}\")\n",
    "        except Exception as e:\n",
    "            print(f\"Error removing {filename}: {e}\")"
   ]
  },
  {
   "cell_type": "code",
   "execution_count": null,
   "id": "b3530127-1e89-47ca-a9ba-706a31a2aa03",
   "metadata": {},
   "outputs": [],
   "source": [
    "remove_files(files_to_remove)"
   ]
  },
  {
   "cell_type": "code",
   "execution_count": null,
   "id": "aa9ef0b2-87a6-4651-8ca2-bd667290db3d",
   "metadata": {},
   "outputs": [],
   "source": [
    "print(get_slurm_comand(s, condition))"
   ]
  },
  {
   "cell_type": "code",
   "execution_count": null,
   "id": "24a80738-8233-4575-bdb9-62d919e23ce5",
   "metadata": {},
   "outputs": [],
   "source": []
  }
 ],
 "metadata": {
  "kernelspec": {
   "display_name": "Python 3 (ipykernel)",
   "language": "python",
   "name": "python3"
  },
  "language_info": {
   "codemirror_mode": {
    "name": "ipython",
    "version": 3
   },
   "file_extension": ".py",
   "mimetype": "text/x-python",
   "name": "python",
   "nbconvert_exporter": "python",
   "pygments_lexer": "ipython3",
   "version": "3.11.8"
  }
 },
 "nbformat": 4,
 "nbformat_minor": 5
}
