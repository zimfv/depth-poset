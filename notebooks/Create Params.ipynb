{
 "cells": [
  {
   "cell_type": "code",
   "execution_count": 2,
   "id": "6c5b90fa-e64f-475d-802f-063302e838ad",
   "metadata": {},
   "outputs": [
    {
     "name": "stdout",
     "output_type": "stream",
     "text": [
      "/nfs/scistore16/edelgrp/fzimin/depth-poset\n"
     ]
    },
    {
     "name": "stderr",
     "output_type": "stream",
     "text": [
      "/mnt/nfs/clustersw/Debian/bookworm/jupyterhub/1.0/lib/python3.11/site-packages/IPython/core/magics/osm.py:417: UserWarning: This is now an optional IPython functionality, setting dhist requires you to install the `pickleshare` library.\n",
      "  self.shell.db['dhist'] = compress_dhist(dhist)[-100:]\n"
     ]
    }
   ],
   "source": [
    "%cd .."
   ]
  },
  {
   "cell_type": "code",
   "execution_count": 3,
   "id": "2a035523-d6e0-4a55-b521-3d38b946fc2e",
   "metadata": {},
   "outputs": [],
   "source": [
    "import itertools"
   ]
  },
  {
   "cell_type": "code",
   "execution_count": 4,
   "id": "a81fd08f-5856-4e71-83ed-1f3f8575251a",
   "metadata": {},
   "outputs": [],
   "source": [
    "start_n=12\n",
    "end_n=164\n",
    "step_n=8\n",
    "start_d=1\n",
    "end_d=4\n",
    "repeat=10\n"
   ]
  },
  {
   "cell_type": "code",
   "execution_count": 5,
   "id": "3eaf1f6a-b692-4d97-99f7-af0b63c0edcd",
   "metadata": {},
   "outputs": [],
   "source": [
    "params = '\\n'.join(['\\n'.join([f'{d} {n}' for _ in range(repeat)]) for n, d in itertools.product(range(start_n, end_n + 1, step_n), range(start_d, end_d + 1))])\n"
   ]
  },
  {
   "cell_type": "code",
   "execution_count": 6,
   "id": "018f54cb-b811-4071-83d5-29e898d659c9",
   "metadata": {},
   "outputs": [],
   "source": [
    "with open('params.txt', 'w') as file:\n",
    "    file.write(params)"
   ]
  },
  {
   "cell_type": "code",
   "execution_count": null,
   "id": "10d0d0fd-cf21-4207-b87c-bc2f8039b824",
   "metadata": {},
   "outputs": [],
   "source": []
  }
 ],
 "metadata": {
  "kernelspec": {
   "display_name": "Python 3 (ipykernel)",
   "language": "python",
   "name": "python3"
  },
  "language_info": {
   "codemirror_mode": {
    "name": "ipython",
    "version": 3
   },
   "file_extension": ".py",
   "mimetype": "text/x-python",
   "name": "python",
   "nbconvert_exporter": "python",
   "pygments_lexer": "ipython3",
   "version": "3.11.8"
  }
 },
 "nbformat": 4,
 "nbformat_minor": 5
}
