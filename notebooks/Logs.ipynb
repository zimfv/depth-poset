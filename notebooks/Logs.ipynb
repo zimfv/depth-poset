{
 "cells": [
  {
   "cell_type": "code",
   "execution_count": 1,
   "id": "bbf9c38f-b594-46c0-86c8-fb9f81e65219",
   "metadata": {},
   "outputs": [
    {
     "name": "stderr",
     "output_type": "stream",
     "text": [
      "/mnt/nfs/clustersw/Debian/bookworm/jupyterhub/1.0/lib/python3.11/site-packages/IPython/core/magics/osm.py:417: UserWarning: This is now an optional IPython functionality, setting dhist requires you to install the `pickleshare` library.\n",
      "  self.shell.db['dhist'] = compress_dhist(dhist)[-100:]\n"
     ]
    },
    {
     "name": "stdout",
     "output_type": "stream",
     "text": [
      "/nfs/scistore16/edelgrp/fzimin/depth-poset\n"
     ]
    }
   ],
   "source": [
    "%cd .."
   ]
  },
  {
   "cell_type": "code",
   "execution_count": 2,
   "id": "7aec6910-7f5d-4726-8747-1dfd55e95e72",
   "metadata": {},
   "outputs": [],
   "source": [
    "import os\n",
    "\n",
    "import numpy as np\n",
    "import pandas as pd\n",
    "\n",
    "from tqdm import tqdm"
   ]
  },
  {
   "cell_type": "code",
   "execution_count": 3,
   "id": "e3a3ef08-5e7e-441b-88c1-d724275d5dfa",
   "metadata": {},
   "outputs": [
    {
     "name": "stderr",
     "output_type": "stream",
     "text": [
      "100%|██████████| 810/810 [00:00<00:00, 1868.93it/s]\n"
     ]
    }
   ],
   "source": [
    "# define log-file paths\n",
    "directory = \"logs\"\n",
    "paths = np.sort([f'{directory}/{f}' for f in os.listdir(directory)])\n",
    "\n",
    "paths = paths[np.char.find(paths, 'output') != -1]\n",
    "\n",
    "# load them\n",
    "ls = []\n",
    "for path in tqdm(paths, total=len(paths)):\n",
    "    with open(path, 'r') as file:\n",
    "        ls.append(file.read())\n",
    "ls = np.array(ls)"
   ]
  },
  {
   "cell_type": "code",
   "execution_count": 4,
   "id": "f625eda2-5796-4851-b93a-cd485ab94c93",
   "metadata": {},
   "outputs": [
    {
     "name": "stdout",
     "output_type": "stream",
     "text": [
      "Succesful computed: 766/810\n"
     ]
    }
   ],
   "source": [
    "results = np.array([s.split(\"\\n\")[-2] for s in ls])\n",
    "print(f'Succesful computed: {(np.char.find(results, \"The result is saved\") == 0).sum()}/{len(results)}')"
   ]
  },
  {
   "cell_type": "code",
   "execution_count": 5,
   "id": "535ebc2e-e82f-4830-9008-809f627ea33f",
   "metadata": {},
   "outputs": [
    {
     "data": {
      "text/plain": [
       "Generated the cloud of n=124 points dim=4.                         3\n",
       "Generated the cloud of n=132 points dim=4.                         2\n",
       "Generated the cloud of n=140 points dim=4.                         9\n",
       "Generated the cloud of n=148 points dim=4.                        10\n",
       "Generated the cloud of n=156 points dim=4.                        10\n",
       "Generated the cloud of n=164 points dim=4.                         9\n",
       "sed: -e expression #1, char 2: invalid usage of line address 0     1\n",
       "dtype: int64"
      ]
     },
     "execution_count": 5,
     "metadata": {},
     "output_type": "execute_result"
    }
   ],
   "source": [
    "bad_resuts = np.sort([s.split('\\n')[0] for s in ls[np.char.find(results, \"The result is saved\") != 0]])\n",
    "pd.Series({i: (bad_resuts == i).sum() for i in bad_resuts})"
   ]
  },
  {
   "cell_type": "code",
   "execution_count": null,
   "id": "224077a1-e4d2-4c8f-8705-58c7a4f0b764",
   "metadata": {},
   "outputs": [],
   "source": []
  }
 ],
 "metadata": {
  "kernelspec": {
   "display_name": "Python 3 (ipykernel)",
   "language": "python",
   "name": "python3"
  },
  "language_info": {
   "codemirror_mode": {
    "name": "ipython",
    "version": 3
   },
   "file_extension": ".py",
   "mimetype": "text/x-python",
   "name": "python",
   "nbconvert_exporter": "python",
   "pygments_lexer": "ipython3",
   "version": "3.11.8"
  }
 },
 "nbformat": 4,
 "nbformat_minor": 5
}
