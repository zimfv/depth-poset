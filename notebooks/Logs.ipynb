{
 "cells": [
  {
   "cell_type": "code",
   "execution_count": 1,
   "id": "bbf9c38f-b594-46c0-86c8-fb9f81e65219",
   "metadata": {},
   "outputs": [
    {
     "name": "stdout",
     "output_type": "stream",
     "text": [
      "/nfs/scistore16/edelgrp/fzimin/depth-poset\n"
     ]
    },
    {
     "name": "stderr",
     "output_type": "stream",
     "text": [
      "/mnt/nfs/clustersw/Debian/bookworm/jupyterhub/1.0/lib/python3.11/site-packages/IPython/core/magics/osm.py:417: UserWarning: This is now an optional IPython functionality, setting dhist requires you to install the `pickleshare` library.\n",
      "  self.shell.db['dhist'] = compress_dhist(dhist)[-100:]\n"
     ]
    }
   ],
   "source": [
    "%cd .."
   ]
  },
  {
   "cell_type": "code",
   "execution_count": 2,
   "id": "7aec6910-7f5d-4726-8747-1dfd55e95e72",
   "metadata": {},
   "outputs": [],
   "source": [
    "import os\n",
    "\n",
    "import numpy as np\n",
    "import pandas as pd\n",
    "\n",
    "from tqdm import tqdm"
   ]
  },
  {
   "cell_type": "code",
   "execution_count": 3,
   "id": "e3a3ef08-5e7e-441b-88c1-d724275d5dfa",
   "metadata": {},
   "outputs": [
    {
     "name": "stderr",
     "output_type": "stream",
     "text": [
      "100%|██████████| 1120/1120 [00:20<00:00, 55.41it/s]\n"
     ]
    }
   ],
   "source": [
    "# define log-file paths\n",
    "directory = \"logs\"\n",
    "paths = np.sort([f'{directory}/{f}' for f in os.listdir(directory)])\n",
    "\n",
    "# load them\n",
    "ls = []\n",
    "for path in tqdm(paths, total=len(paths)):\n",
    "    with open(path, 'r') as file:\n",
    "        ls.append(file.read())\n",
    "ls = np.array(ls)"
   ]
  },
  {
   "cell_type": "code",
   "execution_count": 33,
   "id": "e09c8f53-37e1-4b6f-9b21-faebe4327b76",
   "metadata": {},
   "outputs": [
    {
     "data": {
      "text/plain": [
       "The result is saved to path                                                                           1119\n",
       "calculate_scores_on_random_alpha_complexes.py: error: the following arguments are required: dim, n       1\n",
       "Name: count, dtype: int64"
      ]
     },
     "execution_count": 33,
     "metadata": {},
     "output_type": "execute_result"
    }
   ],
   "source": [
    "results = [s.strip().split('\\n')[-1] for s in ls]\n",
    "results = pd.Series([s[:s.find('path') + 4] if s.find('path') != -1 else s for s in results])\n",
    "results.value_counts()"
   ]
  },
  {
   "cell_type": "code",
   "execution_count": null,
   "id": "32e006ed-e501-41a3-abe0-a1ddbef232e6",
   "metadata": {},
   "outputs": [],
   "source": []
  }
 ],
 "metadata": {
  "kernelspec": {
   "display_name": "Python 3 (ipykernel)",
   "language": "python",
   "name": "python3"
  },
  "language_info": {
   "codemirror_mode": {
    "name": "ipython",
    "version": 3
   },
   "file_extension": ".py",
   "mimetype": "text/x-python",
   "name": "python",
   "nbconvert_exporter": "python",
   "pygments_lexer": "ipython3",
   "version": "3.11.8"
  }
 },
 "nbformat": 4,
 "nbformat_minor": 5
}
