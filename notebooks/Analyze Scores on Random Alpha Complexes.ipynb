{
 "cells": [
  {
   "cell_type": "code",
   "execution_count": 1,
   "id": "a6b4f307-a78f-4a78-8a69-d860013f5b9a",
   "metadata": {},
   "outputs": [
    {
     "name": "stdout",
     "output_type": "stream",
     "text": [
      "/home/feodor/Jupyter/depth-poset\n"
     ]
    },
    {
     "name": "stderr",
     "output_type": "stream",
     "text": [
      "/home/feodor/Jupyter/jupyter-env/lib/python3.12/site-packages/IPython/core/magics/osm.py:417: UserWarning: This is now an optional IPython functionality, setting dhist requires you to install the `pickleshare` library.\n",
      "  self.shell.db['dhist'] = compress_dhist(dhist)[-100:]\n"
     ]
    }
   ],
   "source": [
    "%cd .."
   ]
  },
  {
   "cell_type": "code",
   "execution_count": 2,
   "id": "1571692c-4cce-4765-809c-5e226a600d01",
   "metadata": {},
   "outputs": [],
   "source": [
    "import os\n",
    "\n",
    "import numpy as np\n",
    "import pandas as pd\n",
    "import pickle as pkl\n",
    "\n",
    "from tqdm.notebook import tqdm"
   ]
  },
  {
   "cell_type": "markdown",
   "id": "03bf18ca-1b76-4cb7-8abd-dff79a45565f",
   "metadata": {},
   "source": [
    "# Load and Format the Data"
   ]
  },
  {
   "cell_type": "code",
   "execution_count": 3,
   "id": "0c674240-17fd-4cc2-970b-39428a2b7e09",
   "metadata": {},
   "outputs": [
    {
     "data": {
      "application/vnd.jupyter.widget-view+json": {
       "model_id": "f241f5e30ac44b16820e764ad19d73ae",
       "version_major": 2,
       "version_minor": 0
      },
      "text/plain": [
       "  0%|          | 0/11 [00:00<?, ?it/s]"
      ]
     },
     "metadata": {},
     "output_type": "display_data"
    }
   ],
   "source": [
    "# define file paths\n",
    "directory = \"results/scores-on-random-alpha-complexes\"\n",
    "paths = np.sort([f'{directory}/{f}' for f in os.listdir(directory)])\n",
    "\n",
    "# load them\n",
    "ls = []\n",
    "for path in tqdm(paths, total=len(paths)):\n",
    "    with open(path, 'rb') as file:\n",
    "        ls.append(pkl.load(file))"
   ]
  },
  {
   "cell_type": "code",
   "execution_count": 4,
   "id": "f01c95de-1e8c-4425-8ce8-1b2dc72c0097",
   "metadata": {},
   "outputs": [
    {
     "name": "stdout",
     "output_type": "stream",
     "text": [
      "df_poset_scores.shape = (42, 9)\n"
     ]
    },
    {
     "data": {
      "text/html": [
       "<div>\n",
       "<style scoped>\n",
       "    .dataframe tbody tr th:only-of-type {\n",
       "        vertical-align: middle;\n",
       "    }\n",
       "\n",
       "    .dataframe tbody tr th {\n",
       "        vertical-align: top;\n",
       "    }\n",
       "\n",
       "    .dataframe thead th {\n",
       "        text-align: right;\n",
       "    }\n",
       "</style>\n",
       "<table border=\"1\" class=\"dataframe\">\n",
       "  <thead>\n",
       "    <tr style=\"text-align: right;\">\n",
       "      <th></th>\n",
       "      <th>index</th>\n",
       "      <th>object</th>\n",
       "      <th>number_of_nodes</th>\n",
       "      <th>number_of_minimal_nodes</th>\n",
       "      <th>number_of_maximal_nodes</th>\n",
       "      <th>height</th>\n",
       "      <th>width</th>\n",
       "      <th>minimum_maximal_chain</th>\n",
       "      <th>avarage_maximal_chain</th>\n",
       "    </tr>\n",
       "  </thead>\n",
       "  <tbody>\n",
       "    <tr>\n",
       "      <th>0</th>\n",
       "      <td>0</td>\n",
       "      <td>full</td>\n",
       "      <td>84</td>\n",
       "      <td>62</td>\n",
       "      <td>47</td>\n",
       "      <td>4</td>\n",
       "      <td>62</td>\n",
       "      <td>1</td>\n",
       "      <td>1.820896</td>\n",
       "    </tr>\n",
       "    <tr>\n",
       "      <th>1</th>\n",
       "      <td>0</td>\n",
       "      <td>subposet dim=0</td>\n",
       "      <td>31</td>\n",
       "      <td>16</td>\n",
       "      <td>6</td>\n",
       "      <td>4</td>\n",
       "      <td>16</td>\n",
       "      <td>1</td>\n",
       "      <td>3.047619</td>\n",
       "    </tr>\n",
       "    <tr>\n",
       "      <th>2</th>\n",
       "      <td>0</td>\n",
       "      <td>subposet dim=1</td>\n",
       "      <td>53</td>\n",
       "      <td>46</td>\n",
       "      <td>41</td>\n",
       "      <td>1</td>\n",
       "      <td>46</td>\n",
       "      <td>1</td>\n",
       "      <td>1.260870</td>\n",
       "    </tr>\n",
       "    <tr>\n",
       "      <th>0</th>\n",
       "      <td>1</td>\n",
       "      <td>full</td>\n",
       "      <td>108</td>\n",
       "      <td>98</td>\n",
       "      <td>94</td>\n",
       "      <td>4</td>\n",
       "      <td>98</td>\n",
       "      <td>1</td>\n",
       "      <td>1.202020</td>\n",
       "    </tr>\n",
       "    <tr>\n",
       "      <th>1</th>\n",
       "      <td>1</td>\n",
       "      <td>subposet dim=0</td>\n",
       "      <td>15</td>\n",
       "      <td>8</td>\n",
       "      <td>4</td>\n",
       "      <td>4</td>\n",
       "      <td>8</td>\n",
       "      <td>1</td>\n",
       "      <td>2.888889</td>\n",
       "    </tr>\n",
       "  </tbody>\n",
       "</table>\n",
       "</div>"
      ],
      "text/plain": [
       "   index          object  number_of_nodes  number_of_minimal_nodes  \\\n",
       "0      0            full               84                       62   \n",
       "1      0  subposet dim=0               31                       16   \n",
       "2      0  subposet dim=1               53                       46   \n",
       "0      1            full              108                       98   \n",
       "1      1  subposet dim=0               15                        8   \n",
       "\n",
       "   number_of_maximal_nodes  height  width  minimum_maximal_chain  \\\n",
       "0                       47       4     62                      1   \n",
       "1                        6       4     16                      1   \n",
       "2                       41       1     46                      1   \n",
       "0                       94       4     98                      1   \n",
       "1                        4       4      8                      1   \n",
       "\n",
       "   avarage_maximal_chain  \n",
       "0               1.820896  \n",
       "1               3.047619  \n",
       "2               1.260870  \n",
       "0               1.202020  \n",
       "1               2.888889  "
      ]
     },
     "execution_count": 4,
     "metadata": {},
     "output_type": "execute_result"
    }
   ],
   "source": [
    "df_poset_scores = [pd.DataFrame(i['poset scores']) for i in ls]\n",
    "for i in range(len(df_poset_scores)):\n",
    "    df_poset_scores[i].insert(0, 'index', value=i)\n",
    "df_poset_scores = pd.concat(df_poset_scores)\n",
    "\n",
    "print(f'df_poset_scores.shape = {df_poset_scores.shape}')\n",
    "df_poset_scores.head()"
   ]
  },
  {
   "cell_type": "code",
   "execution_count": 5,
   "id": "f62f0cd8-7833-4a7c-80ba-50f2bfa3346e",
   "metadata": {},
   "outputs": [
    {
     "name": "stdout",
     "output_type": "stream",
     "text": [
      "df_node_scores.shape = (334, 10)\n"
     ]
    },
    {
     "data": {
      "text/html": [
       "<div>\n",
       "<style scoped>\n",
       "    .dataframe tbody tr th:only-of-type {\n",
       "        vertical-align: middle;\n",
       "    }\n",
       "\n",
       "    .dataframe tbody tr th {\n",
       "        vertical-align: top;\n",
       "    }\n",
       "\n",
       "    .dataframe thead th {\n",
       "        text-align: right;\n",
       "    }\n",
       "</style>\n",
       "<table border=\"1\" class=\"dataframe\">\n",
       "  <thead>\n",
       "    <tr style=\"text-align: right;\">\n",
       "      <th></th>\n",
       "      <th>index</th>\n",
       "      <th>object</th>\n",
       "      <th>node</th>\n",
       "      <th>incomparable_number</th>\n",
       "      <th>incestors_number</th>\n",
       "      <th>incestors_height</th>\n",
       "      <th>incestors_width</th>\n",
       "      <th>successors_number</th>\n",
       "      <th>successors_height</th>\n",
       "      <th>successors_width</th>\n",
       "    </tr>\n",
       "  </thead>\n",
       "  <tbody>\n",
       "    <tr>\n",
       "      <th>0</th>\n",
       "      <td>0</td>\n",
       "      <td>full</td>\n",
       "      <td>ShallowPair([0.0000, 0.0015], dim=0)</td>\n",
       "      <td>81</td>\n",
       "      <td>2</td>\n",
       "      <td>1</td>\n",
       "      <td>1</td>\n",
       "      <td>0</td>\n",
       "      <td>0</td>\n",
       "      <td>0</td>\n",
       "    </tr>\n",
       "    <tr>\n",
       "      <th>1</th>\n",
       "      <td>0</td>\n",
       "      <td>subposet dim=0</td>\n",
       "      <td>ShallowPair([0.0000, 0.0015], dim=0)</td>\n",
       "      <td>28</td>\n",
       "      <td>2</td>\n",
       "      <td>1</td>\n",
       "      <td>1</td>\n",
       "      <td>0</td>\n",
       "      <td>0</td>\n",
       "      <td>0</td>\n",
       "    </tr>\n",
       "    <tr>\n",
       "      <th>2</th>\n",
       "      <td>0</td>\n",
       "      <td>full</td>\n",
       "      <td>ShallowPair([0.0000, 0.0006], dim=0)</td>\n",
       "      <td>82</td>\n",
       "      <td>1</td>\n",
       "      <td>0</td>\n",
       "      <td>1</td>\n",
       "      <td>0</td>\n",
       "      <td>0</td>\n",
       "      <td>0</td>\n",
       "    </tr>\n",
       "    <tr>\n",
       "      <th>3</th>\n",
       "      <td>0</td>\n",
       "      <td>subposet dim=0</td>\n",
       "      <td>ShallowPair([0.0000, 0.0006], dim=0)</td>\n",
       "      <td>29</td>\n",
       "      <td>1</td>\n",
       "      <td>0</td>\n",
       "      <td>1</td>\n",
       "      <td>0</td>\n",
       "      <td>0</td>\n",
       "      <td>0</td>\n",
       "    </tr>\n",
       "    <tr>\n",
       "      <th>4</th>\n",
       "      <td>0</td>\n",
       "      <td>full</td>\n",
       "      <td>ShallowPair([0.0000, 0.0157], dim=0)</td>\n",
       "      <td>77</td>\n",
       "      <td>0</td>\n",
       "      <td>0</td>\n",
       "      <td>0</td>\n",
       "      <td>6</td>\n",
       "      <td>1</td>\n",
       "      <td>4</td>\n",
       "    </tr>\n",
       "  </tbody>\n",
       "</table>\n",
       "</div>"
      ],
      "text/plain": [
       "   index          object                                  node  \\\n",
       "0      0            full  ShallowPair([0.0000, 0.0015], dim=0)   \n",
       "1      0  subposet dim=0  ShallowPair([0.0000, 0.0015], dim=0)   \n",
       "2      0            full  ShallowPair([0.0000, 0.0006], dim=0)   \n",
       "3      0  subposet dim=0  ShallowPair([0.0000, 0.0006], dim=0)   \n",
       "4      0            full  ShallowPair([0.0000, 0.0157], dim=0)   \n",
       "\n",
       "   incomparable_number  incestors_number  incestors_height  incestors_width  \\\n",
       "0                   81                 2                 1                1   \n",
       "1                   28                 2                 1                1   \n",
       "2                   82                 1                 0                1   \n",
       "3                   29                 1                 0                1   \n",
       "4                   77                 0                 0                0   \n",
       "\n",
       "   successors_number  successors_height  successors_width  \n",
       "0                  0                  0                 0  \n",
       "1                  0                  0                 0  \n",
       "2                  0                  0                 0  \n",
       "3                  0                  0                 0  \n",
       "4                  6                  1                 4  "
      ]
     },
     "execution_count": 5,
     "metadata": {},
     "output_type": "execute_result"
    }
   ],
   "source": [
    "df_node_scores = [pd.DataFrame(i['node scores']) for i in ls]\n",
    "for i in range(len(df_node_scores)):\n",
    "    df_node_scores[i].insert(0, 'index', value=i)\n",
    "df_node_scores = pd.concat(df_node_scores)\n",
    "\n",
    "print(f'df_node_scores.shape = {df_node_scores.shape}')\n",
    "df_node_scores.head()"
   ]
  },
  {
   "cell_type": "code",
   "execution_count": null,
   "id": "8b96b2fa-8cda-4c5b-8d3f-bba5bc18a8b8",
   "metadata": {},
   "outputs": [],
   "source": []
  }
 ],
 "metadata": {
  "kernelspec": {
   "display_name": "Python (jupyter-env)",
   "language": "python",
   "name": "jupyter-env"
  },
  "language_info": {
   "codemirror_mode": {
    "name": "ipython",
    "version": 3
   },
   "file_extension": ".py",
   "mimetype": "text/x-python",
   "name": "python",
   "nbconvert_exporter": "python",
   "pygments_lexer": "ipython3",
   "version": "3.12.3"
  }
 },
 "nbformat": 4,
 "nbformat_minor": 5
}
