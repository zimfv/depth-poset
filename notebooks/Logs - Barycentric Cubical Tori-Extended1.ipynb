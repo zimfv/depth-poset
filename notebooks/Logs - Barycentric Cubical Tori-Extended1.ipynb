{
 "cells": [
  {
   "cell_type": "code",
   "execution_count": 1,
   "id": "ba391d66",
   "metadata": {},
   "outputs": [
    {
     "name": "stdout",
     "output_type": "stream",
     "text": [
      "/nfs/scistore16/edelgrp/fzimin/depth-poset\n"
     ]
    },
    {
     "name": "stderr",
     "output_type": "stream",
     "text": [
      "/mnt/nfs/clustersw/Debian/bookworm/jupyterhub/1.0/lib/python3.11/site-packages/IPython/core/magics/osm.py:417: UserWarning: This is now an optional IPython functionality, setting dhist requires you to install the `pickleshare` library.\n",
      "  self.shell.db['dhist'] = compress_dhist(dhist)[-100:]\n"
     ]
    }
   ],
   "source": [
    "%cd .."
   ]
  },
  {
   "cell_type": "code",
   "execution_count": 2,
   "id": "b2f4e5c3",
   "metadata": {},
   "outputs": [
    {
     "name": "stderr",
     "output_type": "stream",
     "text": [
      "\n",
      "A module that was compiled using NumPy 1.x cannot be run in\n",
      "NumPy 2.2.0 as it may crash. To support both 1.x and 2.x\n",
      "versions of NumPy, modules must be compiled with NumPy 2.0.\n",
      "Some module may need to rebuild instead e.g. with 'pybind11>=2.12'.\n",
      "\n",
      "If you are a user of the module, the easiest solution will be to\n",
      "downgrade to 'numpy<2' or try to upgrade the affected module.\n",
      "We expect that some modules will need time to support NumPy 2.\n",
      "\n",
      "Traceback (most recent call last):  File \"<frozen runpy>\", line 198, in _run_module_as_main\n",
      "  File \"<frozen runpy>\", line 88, in _run_code\n",
      "  File \"/mnt/nfs/clustersw/Debian/bookworm/jupyterhub/1.0/lib/python3.11/site-packages/ipykernel_launcher.py\", line 18, in <module>\n",
      "    app.launch_new_instance()\n",
      "  File \"/mnt/nfs/clustersw/Debian/bookworm/jupyterhub/1.0/lib/python3.11/site-packages/traitlets/config/application.py\", line 1075, in launch_instance\n",
      "    app.start()\n",
      "  File \"/mnt/nfs/clustersw/Debian/bookworm/jupyterhub/1.0/lib/python3.11/site-packages/ipykernel/kernelapp.py\", line 739, in start\n",
      "    self.io_loop.start()\n",
      "  File \"/mnt/nfs/clustersw/Debian/bookworm/jupyterhub/1.0/lib/python3.11/site-packages/tornado/platform/asyncio.py\", line 205, in start\n",
      "    self.asyncio_loop.run_forever()\n",
      "  File \"/mnt/nfs/clustersw/Debian/bookworm/jupyterhub/1.0/lib/python3.11/asyncio/base_events.py\", line 608, in run_forever\n",
      "    self._run_once()\n",
      "  File \"/mnt/nfs/clustersw/Debian/bookworm/jupyterhub/1.0/lib/python3.11/asyncio/base_events.py\", line 1936, in _run_once\n",
      "    handle._run()\n",
      "  File \"/mnt/nfs/clustersw/Debian/bookworm/jupyterhub/1.0/lib/python3.11/asyncio/events.py\", line 84, in _run\n",
      "    self._context.run(self._callback, *self._args)\n",
      "  File \"/mnt/nfs/clustersw/Debian/bookworm/jupyterhub/1.0/lib/python3.11/site-packages/ipykernel/kernelbase.py\", line 545, in dispatch_queue\n",
      "    await self.process_one()\n",
      "  File \"/mnt/nfs/clustersw/Debian/bookworm/jupyterhub/1.0/lib/python3.11/site-packages/ipykernel/kernelbase.py\", line 534, in process_one\n",
      "    await dispatch(*args)\n",
      "  File \"/mnt/nfs/clustersw/Debian/bookworm/jupyterhub/1.0/lib/python3.11/site-packages/ipykernel/kernelbase.py\", line 437, in dispatch_shell\n",
      "    await result\n",
      "  File \"/mnt/nfs/clustersw/Debian/bookworm/jupyterhub/1.0/lib/python3.11/site-packages/ipykernel/ipkernel.py\", line 362, in execute_request\n",
      "    await super().execute_request(stream, ident, parent)\n",
      "  File \"/mnt/nfs/clustersw/Debian/bookworm/jupyterhub/1.0/lib/python3.11/site-packages/ipykernel/kernelbase.py\", line 778, in execute_request\n",
      "    reply_content = await reply_content\n",
      "  File \"/mnt/nfs/clustersw/Debian/bookworm/jupyterhub/1.0/lib/python3.11/site-packages/ipykernel/ipkernel.py\", line 449, in do_execute\n",
      "    res = shell.run_cell(\n",
      "  File \"/mnt/nfs/clustersw/Debian/bookworm/jupyterhub/1.0/lib/python3.11/site-packages/ipykernel/zmqshell.py\", line 549, in run_cell\n",
      "    return super().run_cell(*args, **kwargs)\n",
      "  File \"/mnt/nfs/clustersw/Debian/bookworm/jupyterhub/1.0/lib/python3.11/site-packages/IPython/core/interactiveshell.py\", line 3075, in run_cell\n",
      "    result = self._run_cell(\n",
      "  File \"/mnt/nfs/clustersw/Debian/bookworm/jupyterhub/1.0/lib/python3.11/site-packages/IPython/core/interactiveshell.py\", line 3130, in _run_cell\n",
      "    result = runner(coro)\n",
      "  File \"/mnt/nfs/clustersw/Debian/bookworm/jupyterhub/1.0/lib/python3.11/site-packages/IPython/core/async_helpers.py\", line 128, in _pseudo_sync_runner\n",
      "    coro.send(None)\n",
      "  File \"/mnt/nfs/clustersw/Debian/bookworm/jupyterhub/1.0/lib/python3.11/site-packages/IPython/core/interactiveshell.py\", line 3334, in run_cell_async\n",
      "    has_raised = await self.run_ast_nodes(code_ast.body, cell_name,\n",
      "  File \"/mnt/nfs/clustersw/Debian/bookworm/jupyterhub/1.0/lib/python3.11/site-packages/IPython/core/interactiveshell.py\", line 3517, in run_ast_nodes\n",
      "    if await self.run_code(code, result, async_=asy):\n",
      "  File \"/mnt/nfs/clustersw/Debian/bookworm/jupyterhub/1.0/lib/python3.11/site-packages/IPython/core/interactiveshell.py\", line 3577, in run_code\n",
      "    exec(code_obj, self.user_global_ns, self.user_ns)\n",
      "  File \"/tmp/ipykernel_4176535/134422459.py\", line 5, in <module>\n",
      "    import pandas as pd\n",
      "  File \"/nfs/scistore16/edelgrp/fzimin/.local/lib/python3.11/site-packages/pandas/__init__.py\", line 49, in <module>\n",
      "    from pandas.core.api import (\n",
      "  File \"/nfs/scistore16/edelgrp/fzimin/.local/lib/python3.11/site-packages/pandas/core/api.py\", line 28, in <module>\n",
      "    from pandas.core.arrays import Categorical\n",
      "  File \"/nfs/scistore16/edelgrp/fzimin/.local/lib/python3.11/site-packages/pandas/core/arrays/__init__.py\", line 1, in <module>\n",
      "    from pandas.core.arrays.arrow import ArrowExtensionArray\n",
      "  File \"/nfs/scistore16/edelgrp/fzimin/.local/lib/python3.11/site-packages/pandas/core/arrays/arrow/__init__.py\", line 5, in <module>\n",
      "    from pandas.core.arrays.arrow.array import ArrowExtensionArray\n",
      "  File \"/nfs/scistore16/edelgrp/fzimin/.local/lib/python3.11/site-packages/pandas/core/arrays/arrow/array.py\", line 64, in <module>\n",
      "    from pandas.core.arrays.masked import BaseMaskedArray\n",
      "  File \"/nfs/scistore16/edelgrp/fzimin/.local/lib/python3.11/site-packages/pandas/core/arrays/masked.py\", line 60, in <module>\n",
      "    from pandas.core import (\n",
      "  File \"/nfs/scistore16/edelgrp/fzimin/.local/lib/python3.11/site-packages/pandas/core/nanops.py\", line 52, in <module>\n",
      "    bn = import_optional_dependency(\"bottleneck\", errors=\"warn\")\n",
      "  File \"/nfs/scistore16/edelgrp/fzimin/.local/lib/python3.11/site-packages/pandas/compat/_optional.py\", line 135, in import_optional_dependency\n",
      "    module = importlib.import_module(name)\n",
      "  File \"/mnt/nfs/clustersw/Debian/bookworm/jupyterhub/1.0/lib/python3.11/importlib/__init__.py\", line 126, in import_module\n",
      "    return _bootstrap._gcd_import(name[level:], package, level)\n",
      "  File \"/mnt/nfs/clustersw/Debian/bookworm/jupyterhub/1.0/lib/python3.11/site-packages/bottleneck/__init__.py\", line 7, in <module>\n",
      "    from .move import (move_argmax, move_argmin, move_max, move_mean, move_median,\n"
     ]
    },
    {
     "ename": "AttributeError",
     "evalue": "_ARRAY_API not found",
     "output_type": "error",
     "traceback": [
      "\u001b[0;31m---------------------------------------------------------------------------\u001b[0m",
      "\u001b[0;31mAttributeError\u001b[0m                            Traceback (most recent call last)",
      "\u001b[0;31mAttributeError\u001b[0m: _ARRAY_API not found"
     ]
    }
   ],
   "source": [
    "import os\n",
    "from pathlib import Path\n",
    "\n",
    "import numpy as np\n",
    "import pandas as pd\n",
    "import pickle as pkl\n",
    "\n",
    "import matplotlib.pyplot as plt"
   ]
  },
  {
   "cell_type": "markdown",
   "id": "f746e29b",
   "metadata": {},
   "source": [
    "# Utils"
   ]
  },
  {
   "cell_type": "code",
   "execution_count": 3,
   "id": "243b0ce0",
   "metadata": {},
   "outputs": [],
   "source": [
    "def load_text(path):\n",
    "    # read the file\n",
    "    with open(path, 'r') as file:\n",
    "        text = file.read()\n",
    "    return text"
   ]
  },
  {
   "cell_type": "code",
   "execution_count": 4,
   "id": "9460fbae",
   "metadata": {},
   "outputs": [],
   "source": [
    "def get_line_starts_with(s, start):\n",
    "    s = s.split('\\n')\n",
    "    for line in s:\n",
    "        if line.find(start) == 0:\n",
    "            return line"
   ]
  },
  {
   "cell_type": "markdown",
   "id": "91f94231-6caf-4696-bdcf-e026731c016c",
   "metadata": {},
   "source": [
    "## Exclude info functions"
   ]
  },
  {
   "cell_type": "code",
   "execution_count": 5,
   "id": "03bd659b-839f-4ce9-90b1-8a9213b02d05",
   "metadata": {},
   "outputs": [],
   "source": [
    "def get_error_line(log):\n",
    "    # returns an error line if exists\n",
    "    for s in log.split('\\n'):\n",
    "        if s.find('error') != -1:\n",
    "            return s"
   ]
  },
  {
   "cell_type": "code",
   "execution_count": 6,
   "id": "b100f3af-b866-4ff9-b568-07659844d86e",
   "metadata": {},
   "outputs": [],
   "source": [
    "def get_dim(log):\n",
    "    for s in log.split('\\n'):\n",
    "        if s.find('dim=') == 0:\n",
    "            return s[4:]"
   ]
  },
  {
   "cell_type": "code",
   "execution_count": 7,
   "id": "00215f87-2ef5-4d8e-99a0-434632fbfaac",
   "metadata": {},
   "outputs": [],
   "source": [
    "def get_n(log):\n",
    "    for s in log.split('\\n'):\n",
    "        if s.find('n=') == 0:\n",
    "            return s[2:]"
   ]
  },
  {
   "cell_type": "markdown",
   "id": "7060bb6b",
   "metadata": {},
   "source": [
    "# Depth Poset Scores"
   ]
  },
  {
   "cell_type": "markdown",
   "id": "aa120507",
   "metadata": {},
   "source": [
    "## Logs"
   ]
  },
  {
   "cell_type": "code",
   "execution_count": 8,
   "id": "b041afa7",
   "metadata": {},
   "outputs": [
    {
     "name": "stdout",
     "output_type": "stream",
     "text": [
      "df_logs_scores.shape = (92, 6)\n"
     ]
    },
    {
     "data": {
      "text/html": [
       "<div>\n",
       "<style scoped>\n",
       "    .dataframe tbody tr th:only-of-type {\n",
       "        vertical-align: middle;\n",
       "    }\n",
       "\n",
       "    .dataframe tbody tr th {\n",
       "        vertical-align: top;\n",
       "    }\n",
       "\n",
       "    .dataframe thead th {\n",
       "        text-align: right;\n",
       "    }\n",
       "</style>\n",
       "<table border=\"1\" class=\"dataframe\">\n",
       "  <thead>\n",
       "    <tr style=\"text-align: right;\">\n",
       "      <th></th>\n",
       "      <th>log-path</th>\n",
       "      <th>job</th>\n",
       "      <th>log</th>\n",
       "      <th>dim</th>\n",
       "      <th>n</th>\n",
       "      <th>error</th>\n",
       "    </tr>\n",
       "  </thead>\n",
       "  <tbody>\n",
       "    <tr>\n",
       "      <th>0</th>\n",
       "      <td>logs/scores_on_extended_cubical_torus/output_4...</td>\n",
       "      <td>s/output_45412331</td>\n",
       "      <td>SLURM_ARRAY_TASK_ID = '7'\\nPARAMS:\\ndim=1\\nn=3...</td>\n",
       "      <td>1</td>\n",
       "      <td>3</td>\n",
       "      <td>None</td>\n",
       "    </tr>\n",
       "    <tr>\n",
       "      <th>1</th>\n",
       "      <td>logs/scores_on_extended_cubical_torus/output_4...</td>\n",
       "      <td>s/output_45412336</td>\n",
       "      <td>SLURM_ARRAY_TASK_ID = '12'\\nPARAMS:\\ndim=1\\nn=...</td>\n",
       "      <td>1</td>\n",
       "      <td>4</td>\n",
       "      <td>None</td>\n",
       "    </tr>\n",
       "    <tr>\n",
       "      <th>2</th>\n",
       "      <td>logs/scores_on_extended_cubical_torus/output_4...</td>\n",
       "      <td>s/output_45412338</td>\n",
       "      <td>SLURM_ARRAY_TASK_ID = '14'\\nPARAMS:\\ndim=1\\nn=...</td>\n",
       "      <td>1</td>\n",
       "      <td>4</td>\n",
       "      <td>None</td>\n",
       "    </tr>\n",
       "    <tr>\n",
       "      <th>3</th>\n",
       "      <td>logs/scores_on_extended_cubical_torus/output_4...</td>\n",
       "      <td>s/output_45412344</td>\n",
       "      <td>SLURM_ARRAY_TASK_ID = '20'\\nPARAMS:\\ndim=1\\nn=...</td>\n",
       "      <td>1</td>\n",
       "      <td>4</td>\n",
       "      <td>None</td>\n",
       "    </tr>\n",
       "    <tr>\n",
       "      <th>4</th>\n",
       "      <td>logs/scores_on_extended_cubical_torus/output_4...</td>\n",
       "      <td>s/output_45412395</td>\n",
       "      <td>SLURM_ARRAY_TASK_ID = '71'\\nPARAMS:\\ndim=3\\nn=...</td>\n",
       "      <td>3</td>\n",
       "      <td>4</td>\n",
       "      <td>None</td>\n",
       "    </tr>\n",
       "  </tbody>\n",
       "</table>\n",
       "</div>"
      ],
      "text/plain": [
       "                                            log-path                job  \\\n",
       "0  logs/scores_on_extended_cubical_torus/output_4...  s/output_45412331   \n",
       "1  logs/scores_on_extended_cubical_torus/output_4...  s/output_45412336   \n",
       "2  logs/scores_on_extended_cubical_torus/output_4...  s/output_45412338   \n",
       "3  logs/scores_on_extended_cubical_torus/output_4...  s/output_45412344   \n",
       "4  logs/scores_on_extended_cubical_torus/output_4...  s/output_45412395   \n",
       "\n",
       "                                                 log dim  n error  \n",
       "0  SLURM_ARRAY_TASK_ID = '7'\\nPARAMS:\\ndim=1\\nn=3...   1  3  None  \n",
       "1  SLURM_ARRAY_TASK_ID = '12'\\nPARAMS:\\ndim=1\\nn=...   1  4  None  \n",
       "2  SLURM_ARRAY_TASK_ID = '14'\\nPARAMS:\\ndim=1\\nn=...   1  4  None  \n",
       "3  SLURM_ARRAY_TASK_ID = '20'\\nPARAMS:\\ndim=1\\nn=...   1  4  None  \n",
       "4  SLURM_ARRAY_TASK_ID = '71'\\nPARAMS:\\ndim=3\\nn=...   3  4  None  "
      ]
     },
     "execution_count": 8,
     "metadata": {},
     "output_type": "execute_result"
    }
   ],
   "source": [
    "# path to log-files\n",
    "path_logs_scores = 'logs/scores_on_extended_cubical_torus'\n",
    "\n",
    "# define path for each log-file\n",
    "df_logs_scores = pd.DataFrame({'log-path': os.listdir(path_logs_scores)})\n",
    "df_logs_scores['log-path'] = df_logs_scores['log-path'].apply(lambda s: os.path.join(path_logs_scores, s))\n",
    "df_logs_scores = df_logs_scores[df_logs_scores['log-path'].apply(lambda s: Path(s).suffix) == '.log']\n",
    "\n",
    "# define job index\n",
    "df_logs_scores['job'] = df_logs_scores['log-path'].apply(lambda s: s[36:-4])\n",
    "\n",
    "# load logs\n",
    "df_logs_scores['log'] = df_logs_scores['log-path'].apply(load_text)\n",
    "\n",
    "# get params from log\n",
    "df_logs_scores['dim'] = df_logs_scores['log'].apply(get_dim)\n",
    "df_logs_scores['n'] = df_logs_scores['log'].apply(get_n)\n",
    "\n",
    "df_logs_scores['error'] = df_logs_scores['log'].apply(get_error_line)\n",
    "\n",
    "print(f'df_logs_scores.shape = {df_logs_scores.shape}')\n",
    "df_logs_scores.head()"
   ]
  },
  {
   "cell_type": "code",
   "execution_count": 9,
   "id": "0ee7c8c6-a630-4ccb-bb6b-059074ec7b7e",
   "metadata": {},
   "outputs": [
    {
     "data": {
      "text/plain": [
       "dim  n  error                                                                                             \n",
       "1    3  NaN                                                                                                   10\n",
       "     4  NaN                                                                                                   10\n",
       "2    5  NaN                                                                                                   10\n",
       "1    5  NaN                                                                                                   10\n",
       "2    3  NaN                                                                                                   10\n",
       "     4  NaN                                                                                                   10\n",
       "3    4  NaN                                                                                                   10\n",
       "     3  NaN                                                                                                   10\n",
       "     5  NaN                                                                                                   10\n",
       "        calculate_scores_on_extended_cubical_torus.py: error: the following arguments are required: dim, n     2\n",
       "Name: count, dtype: int64"
      ]
     },
     "execution_count": 9,
     "metadata": {},
     "output_type": "execute_result"
    }
   ],
   "source": [
    "df_logs_scores[['dim', 'n', 'error']].value_counts(dropna=False)"
   ]
  },
  {
   "cell_type": "code",
   "execution_count": 10,
   "id": "5b129108-74ec-44db-b3aa-63179fdde655",
   "metadata": {},
   "outputs": [
    {
     "name": "stdout",
     "output_type": "stream",
     "text": [
      "SLURM_ARRAY_TASK_ID = '0'\n",
      "sed: -e expression #1, char 2: invalid usage of line address 0\n",
      "PARAMS:\n",
      "dim=\n",
      "n=\n",
      "usage: calculate_scores_on_extended_cubical_torus.py [-h] dim n\n",
      "calculate_scores_on_extended_cubical_torus.py: error: the following arguments are required: dim, n\n",
      "\n"
     ]
    }
   ],
   "source": [
    "print(df_logs_scores[~df_logs_scores['error'].isna()]['log'].iloc[0])"
   ]
  },
  {
   "cell_type": "code",
   "execution_count": null,
   "id": "76591d73-a7b0-4353-b298-178530ed66a6",
   "metadata": {},
   "outputs": [],
   "source": []
  }
 ],
 "metadata": {
  "kernelspec": {
   "display_name": "Python 3 (ipykernel)",
   "language": "python",
   "name": "python3"
  },
  "language_info": {
   "codemirror_mode": {
    "name": "ipython",
    "version": 3
   },
   "file_extension": ".py",
   "mimetype": "text/x-python",
   "name": "python",
   "nbconvert_exporter": "python",
   "pygments_lexer": "ipython3",
   "version": "3.11.8"
  }
 },
 "nbformat": 4,
 "nbformat_minor": 5
}
